{
 "cells": [
  {
   "cell_type": "code",
   "execution_count": 2,
   "metadata": {
    "collapsed": false
   },
   "outputs": [
    {
     "name": "stdout",
     "output_type": "stream",
     "text": [
      "Welcome pytextnet!\n"
     ]
    }
   ],
   "source": [
    "import sys\n",
    "pytextnet_path = '/home/pangliang/matching/textnet/analyse/'\n",
    "sys.path.insert(0, pytextnet_path)\n",
    "\n",
    "from time import time\n",
    "import numpy as np\n",
    "import matplotlib.pyplot as plt\n",
    "from matplotlib import offsetbox\n",
    "from sklearn import manifold\n",
    "import json\n",
    "%matplotlib inline\n",
    "\n",
    "import pytextnet\n",
    "from pytextnet.io import base\n",
    "from pytextnet.io import model\n",
    "from pytextnet.io import activation"
   ]
  },
  {
   "cell_type": "code",
   "execution_count": 3,
   "metadata": {
    "collapsed": false
   },
   "outputs": [
    {
     "name": "stdout",
     "output_type": "stream",
     "text": [
      "[/home/pangliang/matching/data/letor/r5w/qid_query.txt]\n",
      "\tData size: 1692\n",
      "[/home/pangliang/matching/data/letor/r5w/docid_doc.txt]\n",
      "\tData size: 65323\n",
      "[/home/pangliang/matching/data/letor/r5w/relation.txt]\n",
      "\tInstance size: 69623\n"
     ]
    }
   ],
   "source": [
    "RootDir = '/home/pangliang/matching/data/letor/r5w/'\n",
    "query_data = base.read_data(RootDir + 'qid_query.txt')\n",
    "doc_data = base.read_data(RootDir + 'docid_doc.txt')\n",
    "rel = base.read_relation(RootDir + 'relation.txt')"
   ]
  },
  {
   "cell_type": "code",
   "execution_count": 4,
   "metadata": {
    "collapsed": false
   },
   "outputs": [
    {
     "name": "stdout",
     "output_type": "stream",
     "text": [
      "[/home/pangliang/matching/data/letor/r5w/word_dict.txt]\n",
      "\tWord dict size: 193367\n"
     ]
    }
   ],
   "source": [
    "word_dict, word_dict_i = base.read_word_dict(filename=RootDir + 'word_dict.txt')"
   ]
  },
  {
   "cell_type": "code",
   "execution_count": 6,
   "metadata": {
    "collapsed": false
   },
   "outputs": [
    {
     "name": "stdout",
     "output_type": "stream",
     "text": [
      "town of truro ma $$\n"
     ]
    }
   ],
   "source": [
    "print ' '.join([word_dict[w] for w in query_data.values()[0]])"
   ]
  },
  {
   "cell_type": "code",
   "execution_count": 10,
   "metadata": {
    "collapsed": false
   },
   "outputs": [],
   "source": [
    "def _textit(x, maxlen = 10000):\n",
    "    return ' '.join([word_dict[w] for w in x][:-1][:maxlen])\n",
    "    \n",
    "count = 40 * 10\n",
    "fout = open('sample.txt', 'w')\n",
    "for r, q, d in rel:\n",
    "    print >>fout, '\\t'.join([str(r), _textit(query_data[q]), _textit(doc_data[d], 50)])\n",
    "    count -= 1\n",
    "    if count == 0:\n",
    "        break\n",
    "fout.close()"
   ]
  },
  {
   "cell_type": "code",
   "execution_count": null,
   "metadata": {
    "collapsed": true
   },
   "outputs": [],
   "source": []
  }
 ],
 "metadata": {
  "kernelspec": {
   "display_name": "Python 2",
   "language": "python",
   "name": "python2"
  },
  "language_info": {
   "codemirror_mode": {
    "name": "ipython",
    "version": 2
   },
   "file_extension": ".py",
   "mimetype": "text/x-python",
   "name": "python",
   "nbconvert_exporter": "python",
   "pygments_lexer": "ipython2",
   "version": "2.7.5"
  }
 },
 "nbformat": 4,
 "nbformat_minor": 2
}
